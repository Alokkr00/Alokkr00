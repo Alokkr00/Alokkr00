{
  "nbformat": 4,
  "nbformat_minor": 0,
  "metadata": {
    "colab": {
      "provenance": [],
      "mount_file_id": "1zPkDFxa96Fv3xUMnktmMgsGL-bXfhX78",
      "authorship_tag": "ABX9TyN5Hg5kdsRtTx/zsHhgB7iW",
      "include_colab_link": true
    },
    "kernelspec": {
      "name": "python3",
      "display_name": "Python 3"
    },
    "language_info": {
      "name": "python"
    }
  },
  "cells": [
    {
      "cell_type": "markdown",
      "metadata": {
        "id": "view-in-github",
        "colab_type": "text"
      },
      "source": [
        "<a href=\"https://colab.research.google.com/github/Alokkr00/Alokkr00/blob/main/Assignment_3.ipynb\" target=\"_parent\"><img src=\"https://colab.research.google.com/assets/colab-badge.svg\" alt=\"Open In Colab\"/></a>"
      ]
    },
    {
      "cell_type": "code",
      "execution_count": 1,
      "metadata": {
        "id": "xdUGWXvYqSSs"
      },
      "outputs": [],
      "source": [
        "# Q. Try to create csv file from above method from pandas , also use reshape function to covert the 1 d array in to 2 d array.Example:(arr = np.arange(1,11).reshape(2,5))"
      ]
    },
    {
      "cell_type": "code",
      "source": [
        "import pandas as pd\n",
        "import numpy as np"
      ],
      "metadata": {
        "id": "WthW8Dk4q683"
      },
      "execution_count": 3,
      "outputs": []
    },
    {
      "cell_type": "code",
      "source": [
        "test=[1,2,3,4,5]"
      ],
      "metadata": {
        "id": "hZ4kWqOFrHF0"
      },
      "execution_count": 4,
      "outputs": []
    },
    {
      "cell_type": "code",
      "source": [
        "np.array(test)"
      ],
      "metadata": {
        "colab": {
          "base_uri": "https://localhost:8080/"
        },
        "id": "kBfDkZOerQqZ",
        "outputId": "1a3eb286-f4da-4deb-80c9-b55b074ba725"
      },
      "execution_count": 5,
      "outputs": [
        {
          "output_type": "execute_result",
          "data": {
            "text/plain": [
              "array([1, 2, 3, 4, 5])"
            ]
          },
          "metadata": {},
          "execution_count": 5
        }
      ]
    },
    {
      "cell_type": "code",
      "source": [
        "arr=np.array(test)"
      ],
      "metadata": {
        "id": "2EOBwJfbrTHh"
      },
      "execution_count": 6,
      "outputs": []
    },
    {
      "cell_type": "code",
      "source": [
        "test1=[[1,2,3],[4,5,6],[7,8,9],[10,11,12],[13,14,15]]\n",
        "test1"
      ],
      "metadata": {
        "colab": {
          "base_uri": "https://localhost:8080/"
        },
        "id": "yRl5eFF7rYRz",
        "outputId": "f9a52ebf-9eb5-4bf7-807a-7c61733a343a"
      },
      "execution_count": 7,
      "outputs": [
        {
          "output_type": "execute_result",
          "data": {
            "text/plain": [
              "[[1, 2, 3], [4, 5, 6], [7, 8, 9], [10, 11, 12], [13, 14, 15]]"
            ]
          },
          "metadata": {},
          "execution_count": 7
        }
      ]
    },
    {
      "cell_type": "code",
      "source": [
        "np.array(test1)"
      ],
      "metadata": {
        "colab": {
          "base_uri": "https://localhost:8080/"
        },
        "id": "pGnGtMyvrpmw",
        "outputId": "2ff93c07-28d2-43ca-e04c-05f77cba6655"
      },
      "execution_count": 8,
      "outputs": [
        {
          "output_type": "execute_result",
          "data": {
            "text/plain": [
              "array([[ 1,  2,  3],\n",
              "       [ 4,  5,  6],\n",
              "       [ 7,  8,  9],\n",
              "       [10, 11, 12],\n",
              "       [13, 14, 15]])"
            ]
          },
          "metadata": {},
          "execution_count": 8
        }
      ]
    },
    {
      "cell_type": "code",
      "source": [
        "np.arange(0,15)"
      ],
      "metadata": {
        "colab": {
          "base_uri": "https://localhost:8080/"
        },
        "id": "AvJM-hiNrtXo",
        "outputId": "e3ebd33e-57e4-4ef0-a9e6-c17064c952f0"
      },
      "execution_count": 9,
      "outputs": [
        {
          "output_type": "execute_result",
          "data": {
            "text/plain": [
              "array([ 0,  1,  2,  3,  4,  5,  6,  7,  8,  9, 10, 11, 12, 13, 14])"
            ]
          },
          "metadata": {},
          "execution_count": 9
        }
      ]
    },
    {
      "cell_type": "code",
      "source": [
        "np.zeros(5)"
      ],
      "metadata": {
        "colab": {
          "base_uri": "https://localhost:8080/"
        },
        "id": "5G2ggUqprwy1",
        "outputId": "b169612b-17ef-4533-edab-6bda777181b2"
      },
      "execution_count": 10,
      "outputs": [
        {
          "output_type": "execute_result",
          "data": {
            "text/plain": [
              "array([0., 0., 0., 0., 0.])"
            ]
          },
          "metadata": {},
          "execution_count": 10
        }
      ]
    },
    {
      "cell_type": "code",
      "source": [
        "np.zeros((5,3))"
      ],
      "metadata": {
        "colab": {
          "base_uri": "https://localhost:8080/"
        },
        "id": "JASCeL53rz-r",
        "outputId": "7bccb806-1545-40ba-e274-6e05caa218e5"
      },
      "execution_count": 11,
      "outputs": [
        {
          "output_type": "execute_result",
          "data": {
            "text/plain": [
              "array([[0., 0., 0.],\n",
              "       [0., 0., 0.],\n",
              "       [0., 0., 0.],\n",
              "       [0., 0., 0.],\n",
              "       [0., 0., 0.]])"
            ]
          },
          "metadata": {},
          "execution_count": 11
        }
      ]
    },
    {
      "cell_type": "code",
      "source": [
        "np.linspace(0,15,6)"
      ],
      "metadata": {
        "colab": {
          "base_uri": "https://localhost:8080/"
        },
        "id": "4nZa5Cg8r9NG",
        "outputId": "48316ca1-5fd3-4bdf-9485-505c7bad46b1"
      },
      "execution_count": 12,
      "outputs": [
        {
          "output_type": "execute_result",
          "data": {
            "text/plain": [
              "array([ 0.,  3.,  6.,  9., 12., 15.])"
            ]
          },
          "metadata": {},
          "execution_count": 12
        }
      ]
    },
    {
      "cell_type": "code",
      "source": [
        "np.random.rand(5)"
      ],
      "metadata": {
        "colab": {
          "base_uri": "https://localhost:8080/"
        },
        "id": "TJfuFLJQr4PH",
        "outputId": "892943bf-5220-42e9-8a02-36d0ff7d3500"
      },
      "execution_count": 14,
      "outputs": [
        {
          "output_type": "execute_result",
          "data": {
            "text/plain": [
              "array([0.38799298, 0.49822489, 0.32324734, 0.42987947, 0.74038885])"
            ]
          },
          "metadata": {},
          "execution_count": 14
        }
      ]
    },
    {
      "cell_type": "code",
      "source": [
        "np.random.rand(5,5)"
      ],
      "metadata": {
        "colab": {
          "base_uri": "https://localhost:8080/"
        },
        "id": "W5Wgib4isIre",
        "outputId": "227aaf00-4f07-420e-c900-5ba46e310a5a"
      },
      "execution_count": 15,
      "outputs": [
        {
          "output_type": "execute_result",
          "data": {
            "text/plain": [
              "array([[0.67128615, 0.34429238, 0.78347103, 0.60651164, 0.94410769],\n",
              "       [0.29360095, 0.90534405, 0.01616695, 0.61430432, 0.14714524],\n",
              "       [0.84022776, 0.0254696 , 0.22510409, 0.72758879, 0.36248889],\n",
              "       [0.38785577, 0.42055928, 0.2392846 , 0.10220312, 0.37898963],\n",
              "       [0.41585617, 0.23706299, 0.59108179, 0.25581339, 0.37891709]])"
            ]
          },
          "metadata": {},
          "execution_count": 15
        }
      ]
    },
    {
      "cell_type": "code",
      "source": [
        "np.random.randint(1,50)"
      ],
      "metadata": {
        "colab": {
          "base_uri": "https://localhost:8080/"
        },
        "id": "8_dXOra-sTL9",
        "outputId": "b77806ad-9bce-4fdd-a93d-c5b2c86f28a5"
      },
      "execution_count": 16,
      "outputs": [
        {
          "output_type": "execute_result",
          "data": {
            "text/plain": [
              "28"
            ]
          },
          "metadata": {},
          "execution_count": 16
        }
      ]
    },
    {
      "cell_type": "code",
      "source": [
        "np.random.randint(1,50,5)"
      ],
      "metadata": {
        "colab": {
          "base_uri": "https://localhost:8080/"
        },
        "id": "V-1KQgI3sXFF",
        "outputId": "2748592f-18a8-4458-e4c9-c0f72d883b51"
      },
      "execution_count": 17,
      "outputs": [
        {
          "output_type": "execute_result",
          "data": {
            "text/plain": [
              "array([30, 44, 45, 43, 48])"
            ]
          },
          "metadata": {},
          "execution_count": 17
        }
      ]
    },
    {
      "cell_type": "code",
      "source": [
        "arr=np.arange(25)\n",
        "arr"
      ],
      "metadata": {
        "colab": {
          "base_uri": "https://localhost:8080/"
        },
        "id": "8tPVnd1YsiC8",
        "outputId": "4a095228-7166-4e51-f4c0-37d977d9af85"
      },
      "execution_count": 19,
      "outputs": [
        {
          "output_type": "execute_result",
          "data": {
            "text/plain": [
              "array([ 0,  1,  2,  3,  4,  5,  6,  7,  8,  9, 10, 11, 12, 13, 14, 15, 16,\n",
              "       17, 18, 19, 20, 21, 22, 23, 24])"
            ]
          },
          "metadata": {},
          "execution_count": 19
        }
      ]
    },
    {
      "cell_type": "code",
      "source": [
        "arr.reshape(5,5)"
      ],
      "metadata": {
        "colab": {
          "base_uri": "https://localhost:8080/"
        },
        "id": "DFjOuO0JswI-",
        "outputId": "7caaf11e-6819-4962-9dee-33b31dd31655"
      },
      "execution_count": 20,
      "outputs": [
        {
          "output_type": "execute_result",
          "data": {
            "text/plain": [
              "array([[ 0,  1,  2,  3,  4],\n",
              "       [ 5,  6,  7,  8,  9],\n",
              "       [10, 11, 12, 13, 14],\n",
              "       [15, 16, 17, 18, 19],\n",
              "       [20, 21, 22, 23, 24]])"
            ]
          },
          "metadata": {},
          "execution_count": 20
        }
      ]
    },
    {
      "cell_type": "code",
      "source": [
        "ranint=np.random.randint(0,30,10)\n",
        "ranint"
      ],
      "metadata": {
        "colab": {
          "base_uri": "https://localhost:8080/"
        },
        "id": "xGIbi-SYs3Bq",
        "outputId": "565f4380-bbe3-44bb-aa58-2d30bb27904a"
      },
      "execution_count": 22,
      "outputs": [
        {
          "output_type": "execute_result",
          "data": {
            "text/plain": [
              "array([ 7,  3, 10, 18, 27,  0, 13, 27, 20,  9])"
            ]
          },
          "metadata": {},
          "execution_count": 22
        }
      ]
    },
    {
      "cell_type": "code",
      "source": [
        "ranint.max()"
      ],
      "metadata": {
        "colab": {
          "base_uri": "https://localhost:8080/"
        },
        "id": "SCWD3v_ls9dr",
        "outputId": "41d8116c-856c-43f7-f46c-8f3b2254c5e2"
      },
      "execution_count": 23,
      "outputs": [
        {
          "output_type": "execute_result",
          "data": {
            "text/plain": [
              "27"
            ]
          },
          "metadata": {},
          "execution_count": 23
        }
      ]
    },
    {
      "cell_type": "code",
      "source": [
        "ranint.argmin()"
      ],
      "metadata": {
        "colab": {
          "base_uri": "https://localhost:8080/"
        },
        "id": "va7Xrx82tEEo",
        "outputId": "a22eef3e-48d4-488b-cb9e-74e861f4e188"
      },
      "execution_count": 24,
      "outputs": [
        {
          "output_type": "execute_result",
          "data": {
            "text/plain": [
              "5"
            ]
          },
          "metadata": {},
          "execution_count": 24
        }
      ]
    },
    {
      "cell_type": "code",
      "source": [
        "ranint.argmax()"
      ],
      "metadata": {
        "colab": {
          "base_uri": "https://localhost:8080/"
        },
        "id": "oIL9qGbutG-B",
        "outputId": "c959f9ec-9984-41d4-c95e-9e1b49029df1"
      },
      "execution_count": 25,
      "outputs": [
        {
          "output_type": "execute_result",
          "data": {
            "text/plain": [
              "4"
            ]
          },
          "metadata": {},
          "execution_count": 25
        }
      ]
    },
    {
      "cell_type": "code",
      "source": [
        "arr.reshape(5,5)\n",
        "arr=arr.reshape(5,5)\n",
        "arr.shape"
      ],
      "metadata": {
        "colab": {
          "base_uri": "https://localhost:8080/"
        },
        "id": "i5tRnEdRtKdt",
        "outputId": "87ab8aca-8ae8-4685-9a7c-8a4b9e81cd01"
      },
      "execution_count": 28,
      "outputs": [
        {
          "output_type": "execute_result",
          "data": {
            "text/plain": [
              "(5, 5)"
            ]
          },
          "metadata": {},
          "execution_count": 28
        }
      ]
    },
    {
      "cell_type": "code",
      "source": [
        "arr.dtype"
      ],
      "metadata": {
        "colab": {
          "base_uri": "https://localhost:8080/"
        },
        "id": "B-lbpEestNjD",
        "outputId": "3db34b71-c418-41a8-868e-f909cb96f535"
      },
      "execution_count": 29,
      "outputs": [
        {
          "output_type": "execute_result",
          "data": {
            "text/plain": [
              "dtype('int64')"
            ]
          },
          "metadata": {},
          "execution_count": 29
        }
      ]
    },
    {
      "cell_type": "code",
      "source": [
        "arr[:]=50\n",
        "arr"
      ],
      "metadata": {
        "colab": {
          "base_uri": "https://localhost:8080/"
        },
        "id": "W9jbwJDytfon",
        "outputId": "8ec16c4b-bbab-430e-9a05-4dda042d7fee"
      },
      "execution_count": 31,
      "outputs": [
        {
          "output_type": "execute_result",
          "data": {
            "text/plain": [
              "array([[50, 50, 50, 50, 50],\n",
              "       [50, 50, 50, 50, 50],\n",
              "       [50, 50, 50, 50, 50],\n",
              "       [50, 50, 50, 50, 50],\n",
              "       [50, 50, 50, 50, 50]])"
            ]
          },
          "metadata": {},
          "execution_count": 31
        }
      ]
    },
    {
      "cell_type": "code",
      "source": [
        "# Q.2 try to perform conditional operator like <,>  on the array ."
      ],
      "metadata": {
        "id": "FA-j3uvgtivT"
      },
      "execution_count": 32,
      "outputs": []
    },
    {
      "cell_type": "code",
      "source": [
        "my_array = pd.read_csv('/content/drive/MyDrive/Colab Notebooks/titanic.csv',delimiter=\",\")"
      ],
      "metadata": {
        "id": "l-l_Kwg2t7yO"
      },
      "execution_count": 33,
      "outputs": []
    },
    {
      "cell_type": "code",
      "source": [
        "print(my_array)"
      ],
      "metadata": {
        "colab": {
          "base_uri": "https://localhost:8080/"
        },
        "id": "VgZfvFjquAzJ",
        "outputId": "a13e2cce-4085-4ae9-c146-7337b6169741"
      },
      "execution_count": 34,
      "outputs": [
        {
          "output_type": "stream",
          "name": "stdout",
          "text": [
            "     PassengerId  Survived  Pclass  \\\n",
            "0              1         0       3   \n",
            "1              2         1       1   \n",
            "2              3         1       3   \n",
            "3              4         1       1   \n",
            "4              5         0       3   \n",
            "..           ...       ...     ...   \n",
            "886          887         0       2   \n",
            "887          888         1       1   \n",
            "888          889         0       3   \n",
            "889          890         1       1   \n",
            "890          891         0       3   \n",
            "\n",
            "                                                  Name     Sex   Age  SibSp  \\\n",
            "0                              Braund, Mr. Owen Harris    male  22.0      1   \n",
            "1    Cumings, Mrs. John Bradley (Florence Briggs Th...  female  38.0      1   \n",
            "2                               Heikkinen, Miss. Laina  female  26.0      0   \n",
            "3         Futrelle, Mrs. Jacques Heath (Lily May Peel)  female  35.0      1   \n",
            "4                             Allen, Mr. William Henry    male  35.0      0   \n",
            "..                                                 ...     ...   ...    ...   \n",
            "886                              Montvila, Rev. Juozas    male  27.0      0   \n",
            "887                       Graham, Miss. Margaret Edith  female  19.0      0   \n",
            "888           Johnston, Miss. Catherine Helen \"Carrie\"  female   NaN      1   \n",
            "889                              Behr, Mr. Karl Howell    male  26.0      0   \n",
            "890                                Dooley, Mr. Patrick    male  32.0      0   \n",
            "\n",
            "     Parch            Ticket     Fare Cabin Embarked  \n",
            "0        0         A/5 21171   7.2500   NaN        S  \n",
            "1        0          PC 17599  71.2833   C85        C  \n",
            "2        0  STON/O2. 3101282   7.9250   NaN        S  \n",
            "3        0            113803  53.1000  C123        S  \n",
            "4        0            373450   8.0500   NaN        S  \n",
            "..     ...               ...      ...   ...      ...  \n",
            "886      0            211536  13.0000   NaN        S  \n",
            "887      0            112053  30.0000   B42        S  \n",
            "888      2        W./C. 6607  23.4500   NaN        S  \n",
            "889      0            111369  30.0000  C148        C  \n",
            "890      0            370376   7.7500   NaN        Q  \n",
            "\n",
            "[891 rows x 12 columns]\n"
          ]
        }
      ]
    },
    {
      "cell_type": "code",
      "source": [
        "print(my_array.head(3))"
      ],
      "metadata": {
        "colab": {
          "base_uri": "https://localhost:8080/"
        },
        "id": "PQ2FLwweuLQ-",
        "outputId": "fb05b795-cf73-46c9-cdec-9a647cbe2669"
      },
      "execution_count": 36,
      "outputs": [
        {
          "output_type": "stream",
          "name": "stdout",
          "text": [
            "   PassengerId  Survived  Pclass  \\\n",
            "0            1         0       3   \n",
            "1            2         1       1   \n",
            "2            3         1       3   \n",
            "\n",
            "                                                Name     Sex   Age  SibSp  \\\n",
            "0                            Braund, Mr. Owen Harris    male  22.0      1   \n",
            "1  Cumings, Mrs. John Bradley (Florence Briggs Th...  female  38.0      1   \n",
            "2                             Heikkinen, Miss. Laina  female  26.0      0   \n",
            "\n",
            "   Parch            Ticket     Fare Cabin Embarked  \n",
            "0      0         A/5 21171   7.2500   NaN        S  \n",
            "1      0          PC 17599  71.2833   C85        C  \n",
            "2      0  STON/O2. 3101282   7.9250   NaN        S  \n"
          ]
        }
      ]
    },
    {
      "cell_type": "code",
      "source": [
        "my_array.to_csv('/content/drive/MyDrive/Colab Notebooks/my_pandas_dataframe.csv', index=False)"
      ],
      "metadata": {
        "id": "MKG-P8gLuVLk"
      },
      "execution_count": 37,
      "outputs": []
    },
    {
      "cell_type": "code",
      "source": [
        "y=my_array.to_csv('/content/drive/MyDrive/Colab Notebooks/my_pandas_dataframe1.csv', index=False, columns=['PassengerId','Survived'])"
      ],
      "metadata": {
        "id": "4MLBw1GqupPR"
      },
      "execution_count": 38,
      "outputs": []
    },
    {
      "cell_type": "code",
      "source": [
        "y=my_array.to_csv('/content/drive/MyDrive/Colab Notebooks/my_pandas_dataframe2.csv', index=False,columns=['PassengerId','Survived'])"
      ],
      "metadata": {
        "id": "WUgSrTnpuuud"
      },
      "execution_count": 39,
      "outputs": []
    },
    {
      "cell_type": "code",
      "source": [
        "yy=pd.read_csv('/content/drive/MyDrive/Colab Notebooks/my_pandas_dataframe2.csv')"
      ],
      "metadata": {
        "id": "DLxrWaP3ux19"
      },
      "execution_count": 40,
      "outputs": []
    },
    {
      "cell_type": "code",
      "source": [
        "print(yy.head(5))"
      ],
      "metadata": {
        "colab": {
          "base_uri": "https://localhost:8080/"
        },
        "id": "84vQ9QMzu1JU",
        "outputId": "740270fc-fec9-4b23-f64f-3b04c16ebd34"
      },
      "execution_count": 41,
      "outputs": [
        {
          "output_type": "stream",
          "name": "stdout",
          "text": [
            "   PassengerId  Survived\n",
            "0            1         0\n",
            "1            2         1\n",
            "2            3         1\n",
            "3            4         1\n",
            "4            5         0\n"
          ]
        }
      ]
    },
    {
      "cell_type": "code",
      "source": [
        "a_np_array=np.array([[1,2,3],[4,5,6],[7,8,9]],dtype=int)\n",
        "a_np_array"
      ],
      "metadata": {
        "colab": {
          "base_uri": "https://localhost:8080/"
        },
        "id": "CLjo_puhu6dW",
        "outputId": "b2b0cdfe-9c06-412d-bd48-c478a326aa48"
      },
      "execution_count": 42,
      "outputs": [
        {
          "output_type": "execute_result",
          "data": {
            "text/plain": [
              "array([[1, 2, 3],\n",
              "       [4, 5, 6],\n",
              "       [7, 8, 9]])"
            ]
          },
          "metadata": {},
          "execution_count": 42
        }
      ]
    },
    {
      "cell_type": "code",
      "source": [
        "np.savetxt(\"/content/drive/MyDrive/Colab Notebooks/output.csv\", a_np_array, delimiter=\",\")"
      ],
      "metadata": {
        "id": "KnF1GOAgvWbX"
      },
      "execution_count": 43,
      "outputs": []
    },
    {
      "cell_type": "code",
      "source": [
        "a = np.array([[1, 6, 4],[2, 4, 8],[3, 9, 1]])\n",
        "np.savetxt(\"/content/drive/MyDrive/Colab Notebooks/data3.csv\", a, delimiter = \",\")"
      ],
      "metadata": {
        "id": "WeFjGXaKvelA"
      },
      "execution_count": 44,
      "outputs": []
    },
    {
      "cell_type": "code",
      "source": [
        "# Q. Try to create csv file from above method from pandas , also use reshape function to covert the 1 d array in to 2 d array.Example:(arr = np.arange(1,11).reshape(2,5))"
      ],
      "metadata": {
        "id": "_a3Q8Ce3v0Ce"
      },
      "execution_count": 45,
      "outputs": []
    },
    {
      "cell_type": "code",
      "source": [
        "y = np.loadtxt(\"/content/drive/MyDrive/Colab Notebooks/output.csv\",dtype=str)\n",
        "y"
      ],
      "metadata": {
        "colab": {
          "base_uri": "https://localhost:8080/"
        },
        "id": "U_NEHDAWwDMW",
        "outputId": "c5cbaaf1-69e8-4040-d161-71e32d43288d"
      },
      "execution_count": 46,
      "outputs": [
        {
          "output_type": "execute_result",
          "data": {
            "text/plain": [
              "array(['1.000000000000000000e+00,2.000000000000000000e+00,3.000000000000000000e+00',\n",
              "       '4.000000000000000000e+00,5.000000000000000000e+00,6.000000000000000000e+00',\n",
              "       '7.000000000000000000e+00,8.000000000000000000e+00,9.000000000000000000e+00'],\n",
              "      dtype='<U74')"
            ]
          },
          "metadata": {},
          "execution_count": 46
        }
      ]
    },
    {
      "cell_type": "code",
      "source": [
        "my= np.loadtxt('/content/drive/MyDrive/Colab Notebooks/2021.csv',delimiter=\",\", skiprows=1)"
      ],
      "metadata": {
        "id": "z-sGW4ALwFrV"
      },
      "execution_count": 47,
      "outputs": []
    },
    {
      "cell_type": "code",
      "source": [
        "print (my[0:5,:])"
      ],
      "metadata": {
        "colab": {
          "base_uri": "https://localhost:8080/"
        },
        "id": "vVhqHS7nwOh3",
        "outputId": "6bf6f7fb-6381-458d-dd00-8226818ec96d"
      },
      "execution_count": 48,
      "outputs": [
        {
          "output_type": "stream",
          "name": "stdout",
          "text": [
            "[[ 1. 10. 22.]\n",
            " [ 2. 11. 23.]\n",
            " [ 3. 12. 24.]\n",
            " [ 4. 13. 25.]\n",
            " [ 5. 14. 26.]]\n"
          ]
        }
      ]
    },
    {
      "cell_type": "code",
      "source": [
        "np.savetxt(\"/content/drive/MyDrive/Colab Notebooks/saved_numpy_data_1.csv\", my[0:5,:], delimiter=\",\")"
      ],
      "metadata": {
        "id": "sQJagX2gwfZ_"
      },
      "execution_count": 49,
      "outputs": []
    },
    {
      "cell_type": "code",
      "source": [
        "TT=my.astype(int)"
      ],
      "metadata": {
        "id": "Mq0iqQcQwmvN"
      },
      "execution_count": 50,
      "outputs": []
    },
    {
      "cell_type": "code",
      "source": [
        "np.savetxt(\"/content/drive/MyDrive/Colab Notebooks/SN.csv\",TT,delimiter=\",\")"
      ],
      "metadata": {
        "id": "t4Iz6QYhwpSS"
      },
      "execution_count": 51,
      "outputs": []
    }
  ]
}